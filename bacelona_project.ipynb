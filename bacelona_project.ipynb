{
 "cells": [
  {
   "cell_type": "markdown",
   "metadata": {},
   "source": [
    "# Python data analytics toolkit to get the job done\n",
    "\n",
    "Hello reader!\n",
    "\n",
    "This notebook contains all code necessary to finish the course.\n",
    "\n",
    "Also, the notebook is a copy of the content included in the eBook.\n",
    "\n",
    "Hope you have fun!:)\n"
   ]
  },
  {
   "cell_type": "code",
   "execution_count": null,
   "metadata": {},
   "outputs": [],
   "source": [
    "import pandas as pd # Read pandas library to use it in a project\n",
    "# To display as dataframe - pandas way of naming table\n",
    "from IPython.display import display \n",
    "import openpyxl"
   ]
  },
  {
   "cell_type": "markdown",
   "metadata": {},
   "source": [
    "# Chapter 1: File reading and data cleaning"
   ]
  },
  {
   "cell_type": "code",
   "execution_count": null,
   "metadata": {},
   "outputs": [],
   "source": [
    "# We created dataframe named listings by using pd.read_csv method\n",
    "df_listings = pd.read_csv(filepath_or_buffer='listings.csv')\n",
    "# We printed first five rows of the dataframe\n",
    "df_listings.head()"
   ]
  },
  {
   "cell_type": "code",
   "execution_count": null,
   "metadata": {},
   "outputs": [],
   "source": [
    "# Show basic methods for exploratory analysis\n",
    "print('Size of dataframe:')\n",
    "print(f'Rows: {df_listings.shape[0]}, Columns: {df_listings.shape[1]}')\n",
    "print('Types of columns:')\n",
    "# Display is a method that beautifies the output you see \n",
    "# We imported it at the beginning of the notebook\n",
    "display(df_listings.dtypes)"
   ]
  },
  {
   "cell_type": "markdown",
   "metadata": {},
   "source": [
    "### Exercise: Try to read neighbourhood.csv file and use all the methods mentioned previously."
   ]
  },
  {
   "cell_type": "code",
   "execution_count": null,
   "metadata": {},
   "outputs": [],
   "source": [
    "# We created dataframe named neighbourhoods by using pd.read_csv method\n",
    "neighbourhoods = pd.read_csv(filepath_or_buffer='neighbourhoods.csv')\n",
    "# We printed first ten rows of the dataframe\n",
    "neighbourhoods.head(10)"
   ]
  },
  {
   "cell_type": "code",
   "execution_count": null,
   "metadata": {},
   "outputs": [],
   "source": [
    "# Show basic methods for exploratory analysis\n",
    "print('Size of dataframe:')\n",
    "print(f'Rows: {neighbourhoods.shape[0]}, Columns: {neighbourhoods.shape[1]}')\n",
    "print('Types of columns:')\n",
    "display(neighbourhoods.dtypes)"
   ]
  },
  {
   "cell_type": "markdown",
   "metadata": {},
   "source": [
    "## List and dictionary - collection data types in Python"
   ]
  },
  {
   "cell_type": "code",
   "execution_count": null,
   "metadata": {},
   "outputs": [],
   "source": [
    "my_list = ['one', 'two', 2, False]\n",
    "# First element\n",
    "print(my_list[0])\n",
    "# Fourth element\n",
    "print(my_list[3]) \n",
    "# Length of the list \n",
    "print(len(my_list))"
   ]
  },
  {
   "cell_type": "code",
   "execution_count": null,
   "metadata": {},
   "outputs": [],
   "source": [
    "my_dictionary = {'first_name': 'Filip', 'age': 26}\n",
    "# Access first name\n",
    "print(my_dictionary['first_name'])\n",
    "# Access age\n",
    "print(my_dictionary['age'])"
   ]
  },
  {
   "cell_type": "markdown",
   "metadata": {},
   "source": [
    "## Checking our dataset meaning"
   ]
  },
  {
   "cell_type": "code",
   "execution_count": null,
   "metadata": {},
   "outputs": [],
   "source": [
    "df_listings.head()"
   ]
  },
  {
   "cell_type": "code",
   "execution_count": null,
   "metadata": {},
   "outputs": [],
   "source": [
    "df_urls = pd.read_excel('urls.xlsx', header=0)\n",
    "df_urls.head()"
   ]
  },
  {
   "cell_type": "code",
   "execution_count": null,
   "metadata": {},
   "outputs": [],
   "source": [
    "neighbourhoods.head()"
   ]
  },
  {
   "cell_type": "markdown",
   "metadata": {},
   "source": [
    "## Remove unnecessary columns"
   ]
  },
  {
   "cell_type": "code",
   "execution_count": null,
   "metadata": {},
   "outputs": [],
   "source": [
    "# Pandas drop method removes either specified columns (axis=1) or rows (axis=0)\n",
    "df_listings.drop(labels=['name', 'longitude', 'latitude'], axis='columns', inplace=True)\n",
    "df_listings.head()"
   ]
  },
  {
   "cell_type": "markdown",
   "metadata": {},
   "source": [
    "### Exercise: Remove neighborhood column from df_listings."
   ]
  },
  {
   "cell_type": "code",
   "execution_count": null,
   "metadata": {},
   "outputs": [],
   "source": [
    "# Pandas drop method removes either specified columns (axis='columns') or rows (axis='rows')\n",
    "df_listings.drop(labels=['neighbourhood'], axis='columns', inplace=True)\n",
    "df_listings.head()"
   ]
  },
  {
   "cell_type": "markdown",
   "metadata": {},
   "source": [
    "### Exercise: Read listings datasets once again, give it a different name. Then, remove rows with number 0, 100 and 1000."
   ]
  },
  {
   "cell_type": "code",
   "execution_count": null,
   "metadata": {},
   "outputs": [],
   "source": [
    "df_exercise = pd.read_csv('listings.csv')\n",
    "df_exercise.drop(labels=[0, 100, 1000], axis='index', inplace=True)"
   ]
  },
  {
   "cell_type": "markdown",
   "metadata": {},
   "source": [
    "## Rename column"
   ]
  },
  {
   "cell_type": "code",
   "execution_count": null,
   "metadata": {},
   "outputs": [],
   "source": [
    "df_listings.rename(mapper={'neighbourhood_group': 'neighbourhood'}, axis='columns', inplace=True)\n",
    "df_listings.head()"
   ]
  },
  {
   "cell_type": "markdown",
   "metadata": {},
   "source": [
    "## Wrap everything in one function"
   ]
  },
  {
   "cell_type": "code",
   "execution_count": null,
   "metadata": {},
   "outputs": [],
   "source": [
    "def read_and_prepare_dataframe(filename: str, drop_column_names: list, rename_column_names: dict):\n",
    "    \"\"\"\n",
    "    Reads dataframe from csv file, drops unwanted columns and renames selected ones.\n",
    "    \n",
    "    :param filename: name of the file in the string format\n",
    "    :param drop_column_names: list with column names that should be deleted\n",
    "    :param rename_column_names: dictionary with column names that should be renamed  \n",
    "    \n",
    "    Returns:\n",
    "    Dataframe with formatted columns.\n",
    "    \"\"\"\n",
    "    df = pd.read_csv(filename)\n",
    "    # Remove unwanted columns\n",
    "    df.drop(labels=drop_column_names, axis='columns', inplace=True)\n",
    "    # Rename selected column names\n",
    "    df.rename(mapper=rename_column_names, axis='columns', inplace=True)\n",
    "    # Return ready to work on dataframe\n",
    "    return df\n",
    "\n",
    "df_listings = read_and_prepare_dataframe(filename='listings.csv',\n",
    "                                         drop_column_names=['name', 'longitude', 'latitude', 'neighbourhood'],\n",
    "                                         rename_column_names={'neighbourhood_group': 'neighbourhood'})"
   ]
  },
  {
   "cell_type": "code",
   "execution_count": null,
   "metadata": {},
   "outputs": [],
   "source": [
    "df_listings.head()"
   ]
  },
  {
   "cell_type": "markdown",
   "metadata": {},
   "source": [
    "# Chapter 2: Exploratory analysis"
   ]
  },
  {
   "cell_type": "markdown",
   "metadata": {},
   "source": [
    "## How many people currently offer a place in Barcelona"
   ]
  },
  {
   "cell_type": "code",
   "execution_count": null,
   "metadata": {},
   "outputs": [],
   "source": [
    "# Nunique method returns number of unique occurrences in column\n",
    "df_listings['host_id'].nunique()"
   ]
  },
  {
   "cell_type": "code",
   "execution_count": null,
   "metadata": {},
   "outputs": [],
   "source": [
    "# Nunique method returns number of unique occurrences in column\n",
    "df_listings.host_id.nunique()"
   ]
  },
  {
   "cell_type": "markdown",
   "metadata": {},
   "source": [
    "## How many properties has an average landlord"
   ]
  },
  {
   "cell_type": "code",
   "execution_count": null,
   "metadata": {},
   "outputs": [],
   "source": [
    "# We divide two numbers by using /\n",
    "df_listings.id.nunique() / df_listings.host_id.nunique() "
   ]
  },
  {
   "cell_type": "code",
   "execution_count": null,
   "metadata": {},
   "outputs": [],
   "source": [
    "# Another mathematical operations: addition, deduction, multiplication, division, power, remainder \n",
    "2+2, 2-2, 2*2, 2/2, 2**4, 2%2 "
   ]
  },
  {
   "cell_type": "markdown",
   "metadata": {},
   "source": [
    "### What are the types of properties that you can rent there?"
   ]
  },
  {
   "cell_type": "code",
   "execution_count": null,
   "metadata": {},
   "outputs": [],
   "source": [
    "# Unique method returns an array of unique occurrences in column\n",
    "df_listings.room_type.unique().tolist()"
   ]
  },
  {
   "cell_type": "code",
   "execution_count": null,
   "metadata": {},
   "outputs": [],
   "source": [
    "df_listings.room_type.value_counts()"
   ]
  },
  {
   "cell_type": "markdown",
   "metadata": {},
   "source": [
    "## Creating new column in Pandas"
   ]
  },
  {
   "cell_type": "code",
   "execution_count": null,
   "metadata": {},
   "outputs": [],
   "source": [
    "df_listings['price_per_reservation'] = df_listings['price_per_night'] * df_listings['minimum_nights'] \n",
    "df_listings.head()"
   ]
  },
  {
   "cell_type": "markdown",
   "metadata": {},
   "source": [
    "## What is the average price per night?"
   ]
  },
  {
   "cell_type": "code",
   "execution_count": null,
   "metadata": {},
   "outputs": [],
   "source": [
    "print(f'Average price of an AirBnB property per night: {round(df_listings.price_per_night.mean(),2)} dollars')\n",
    "print(f'Maximum price of an AirBnB property per night: {round(df_listings.price_per_night.max(),2)} dollars')\n",
    "print(f'Median price of an AirBnB property per night: {round(df_listings.price_per_night.median(),2)} dollars')"
   ]
  },
  {
   "cell_type": "code",
   "execution_count": null,
   "metadata": {},
   "outputs": [],
   "source": [
    "# Do the same using describe\n",
    "df_listings.price_per_night.describe()"
   ]
  },
  {
   "cell_type": "markdown",
   "metadata": {},
   "source": [
    "### Exercise: What is the average price per reservation?"
   ]
  },
  {
   "cell_type": "code",
   "execution_count": null,
   "metadata": {},
   "outputs": [],
   "source": [
    "print(f'Average price of an AirBnB property per reservation: {round(df_listings.price_per_reservation.mean(),2)} dollars')"
   ]
  },
  {
   "cell_type": "markdown",
   "metadata": {},
   "source": [
    "## How does the most expensive apartment in Barcelona look like?"
   ]
  },
  {
   "cell_type": "code",
   "execution_count": null,
   "metadata": {},
   "outputs": [],
   "source": [
    "df_listings.loc[df_listings['price_per_night'] == 8000]"
   ]
  },
  {
   "cell_type": "code",
   "execution_count": null,
   "metadata": {},
   "outputs": [],
   "source": [
    "df_listings.loc[df_listings['price_per_night'] == 8000, 'id']"
   ]
  },
  {
   "cell_type": "code",
   "execution_count": null,
   "metadata": {},
   "outputs": [],
   "source": [
    "df_listings.query('price_per_night == 8000')"
   ]
  },
  {
   "cell_type": "code",
   "execution_count": null,
   "metadata": {},
   "outputs": [],
   "source": [
    "df_listings.query('price_per_night == 8000')['id']"
   ]
  },
  {
   "cell_type": "code",
   "execution_count": null,
   "metadata": {
    "scrolled": true
   },
   "outputs": [],
   "source": [
    "# Exercise: find url of the most expensive property in Barcelona\n",
    "df_urls.query('id == 17211611')"
   ]
  },
  {
   "cell_type": "markdown",
   "metadata": {},
   "source": [
    "### Show how to merge two dataframes"
   ]
  },
  {
   "cell_type": "code",
   "execution_count": null,
   "metadata": {},
   "outputs": [],
   "source": [
    "df_listings.id.nunique()"
   ]
  },
  {
   "cell_type": "code",
   "execution_count": null,
   "metadata": {},
   "outputs": [],
   "source": [
    "df_urls.id.nunique()"
   ]
  },
  {
   "cell_type": "code",
   "execution_count": null,
   "metadata": {},
   "outputs": [],
   "source": [
    "listings = df_listings.merge(right=df_urls, on='id', how='inner')"
   ]
  },
  {
   "cell_type": "code",
   "execution_count": null,
   "metadata": {},
   "outputs": [],
   "source": [
    "# Exercise: preserve all information from df_listings dataframe.\n",
    "listings = df_listings.merge(right=df_urls, on='id', how='left')"
   ]
  },
  {
   "cell_type": "code",
   "execution_count": null,
   "metadata": {},
   "outputs": [],
   "source": [
    "listings.head()"
   ]
  },
  {
   "cell_type": "markdown",
   "metadata": {},
   "source": [
    "### Distribution per neighbourhood\n",
    "\n",
    "- how many offers are listed per neighbourhood\n",
    "- what is an average price per night in neighbourhood\n",
    "- what is an average availability per year in each neighbourhood\n",
    "- what is the minimum availability among all apartments\n",
    "\n",
    "Groupby on two elements: neighbourhood and room type.\n"
   ]
  },
  {
   "cell_type": "code",
   "execution_count": null,
   "metadata": {},
   "outputs": [],
   "source": [
    "listings[['neighbourhood', 'price_per_night']].groupby(by=['neighbourhood']).mean()"
   ]
  },
  {
   "cell_type": "code",
   "execution_count": null,
   "metadata": {},
   "outputs": [],
   "source": [
    "listings[['neighbourhood', 'price_per_night']].groupby(by=['neighbourhood']).mean().reset_index()"
   ]
  },
  {
   "cell_type": "code",
   "execution_count": null,
   "metadata": {},
   "outputs": [],
   "source": [
    "listings[['neighbourhood', 'price_per_night', 'annual_availability']].groupby(by=['neighbourhood']).mean().reset_index()"
   ]
  },
  {
   "cell_type": "code",
   "execution_count": null,
   "metadata": {},
   "outputs": [],
   "source": [
    "listings[['neighbourhood', 'room_type', 'price_per_night']].groupby(by=['neighbourhood', 'room_type']).max()"
   ]
  },
  {
   "cell_type": "markdown",
   "metadata": {},
   "source": [
    "### How many listings are available in each neighbourhood"
   ]
  },
  {
   "cell_type": "code",
   "execution_count": null,
   "metadata": {},
   "outputs": [],
   "source": [
    "# Create new dataframe that stores groupby results\n",
    "count_offers_neighbourhood = listings[['neighbourhood', 'price_per_night']].groupby(by=['neighbourhood']).count()\n",
    "# Rename price per night column because now it stores different information\n",
    "count_offers_neighbourhood.rename({\"price_per_night\": \"listings_per_neighbourhood\"}, axis=1, inplace=True)\n",
    "# Show results\n",
    "count_offers_neighbourhood"
   ]
  },
  {
   "cell_type": "markdown",
   "metadata": {},
   "source": [
    "## Sort the dataframe"
   ]
  },
  {
   "cell_type": "code",
   "execution_count": null,
   "metadata": {},
   "outputs": [],
   "source": [
    "count_offers_neighbourhood.sort_values(by=['listings_per_neighbourhood'], ascending=False)"
   ]
  },
  {
   "cell_type": "markdown",
   "metadata": {},
   "source": [
    "# Chapter 3: Answering business question - our project\n",
    "\n",
    "I encourage you strongly to do it first you your own!\n",
    "\n",
    "Project outline:\n",
    "\n",
    "1. Calculate mean AirBnB occupancy per year for apartments that can be rented entirely, taking into account different neighborhoods.\n",
    "2. Calculate annual income from renting the property on AirBnB. We will need to assume the following:\n",
    "    - annual availability of the property\n",
    "3. Calculate simple payback period from the investment taking into account different neighborhoods. \n",
    "    - Simple payback period formula:\n",
    "        $$\\frac{Cost}{Annual Income}$$\n",
    "\n",
    "4. Choose one with simple payback time lower than 25 years. \n",
    "5. Decide if you like what results say:) \n"
   ]
  },
  {
   "cell_type": "markdown",
   "metadata": {},
   "source": [
    "## How to create a dataframe from data we have"
   ]
  },
  {
   "cell_type": "code",
   "execution_count": null,
   "metadata": {},
   "outputs": [],
   "source": [
    "apartment_prices = pd.DataFrame(data={\n",
    "                                    \"neighbourhood\":[\"Eixample\", \"Ciutat Vella\", \"Sants-Montjuïc\",\n",
    "                                                     \"Sant Martí\", \"Gràcia\", \"Les Corts\"],\n",
    "                                    \"average_price_per_apartment\": [352920,293040,239340,280260,288000,329940]\n",
    "                                }\n",
    "                                )\n",
    "apartment_prices"
   ]
  },
  {
   "cell_type": "markdown",
   "metadata": {},
   "source": [
    "### Income per year"
   ]
  },
  {
   "cell_type": "code",
   "execution_count": null,
   "metadata": {},
   "outputs": [],
   "source": [
    "# Select listings that can be rented entirely\n",
    "listings = listings.query('room_type == \"Entire home/apt\"')"
   ]
  },
  {
   "cell_type": "code",
   "execution_count": null,
   "metadata": {},
   "outputs": [],
   "source": [
    "# How to brake a line in Python\n",
    "# This line won't work because we haven't marked that we want to break the line\n",
    "summary_neighbourhoods = listings[['neighbourhood','price_per_night','annual_availability']]\n",
    "                            .groupby(by=['neighbourhood']).mean()"
   ]
  },
  {
   "cell_type": "code",
   "execution_count": null,
   "metadata": {},
   "outputs": [],
   "source": [
    "# How to brake a line in Python\n",
    "# This will work because we use backslash to tell Python that we are going to break a line\n",
    "summary_neighbourhoods = listings[['neighbourhood', 'price_per_night', 'annual_availability']] \\\n",
    "                            .groupby(by=['neighbourhood']).mean()"
   ]
  },
  {
   "cell_type": "code",
   "execution_count": null,
   "metadata": {},
   "outputs": [],
   "source": [
    "# Firstly, let's create mean price per night and availabilty columns\n",
    "summary_neighbourhoods = listings[['neighbourhood', 'price_per_night', 'annual_availability']] \\\n",
    "                                 .groupby(by=['neighbourhood']).mean()\n",
    "\n",
    "# Rename price per night column because now it's mean price per night\n",
    "summary_neighbourhoods.rename({\"price_per_night\": \"mean_price_per_night\"}, axis=1, inplace=True)\n",
    "summary_neighbourhoods"
   ]
  },
  {
   "cell_type": "code",
   "execution_count": null,
   "metadata": {},
   "outputs": [],
   "source": [
    "# Let's convert dollars to euros, using a conversion rate\n",
    "dollar_to_euro = 0.9\n",
    "summary_neighbourhoods['mean_price_per_night_euro'] = summary_neighbourhoods['mean_price_per_night']*dollar_to_euro \n",
    "\n",
    "# We assume that if an apartment is unavailable, then it's rented on AirBnB\n",
    "summary_neighbourhoods['annual_occupancy'] = 365 - summary_neighbourhoods['annual_availability']\n",
    "# This is how we create a variable in Python\n",
    "annual_accessibility = 0.75\n",
    "# Annual income formula: accessibility per year x annual_occupancy x mean price per night\n",
    "summary_neighbourhoods['annual_income'] = annual_accessibility*\\\n",
    "                                          summary_neighbourhoods['annual_occupancy'] *\\\n",
    "                                          summary_neighbourhoods['mean_price_per_night_euro']\n",
    "# Let's reset the index to have all data stored in columns\n",
    "summary_neighbourhoods.reset_index(inplace=True)\n",
    "summary_neighbourhoods.drop(['mean_price_per_night'], axis='columns', inplace=True)\n",
    "summary_neighbourhoods"
   ]
  },
  {
   "cell_type": "code",
   "execution_count": null,
   "metadata": {},
   "outputs": [],
   "source": [
    "# Mean income\n",
    "summary_neighbourhoods['annual_income'].mean()"
   ]
  },
  {
   "cell_type": "code",
   "execution_count": null,
   "metadata": {},
   "outputs": [],
   "source": [
    "# Difference between the lowest and highest annual income\n",
    "summary_neighbourhoods['annual_income'].max() - summary_neighbourhoods['annual_income'].min()"
   ]
  },
  {
   "cell_type": "markdown",
   "metadata": {},
   "source": [
    "### Calculate simple payback time"
   ]
  },
  {
   "cell_type": "code",
   "execution_count": null,
   "metadata": {},
   "outputs": [],
   "source": [
    "# Merge apartment prices with average annual incomes\n",
    "summary_neighbourhoods = summary_neighbourhoods.merge(apartment_prices, on='neighbourhood', how='inner')\n",
    "summary_neighbourhoods"
   ]
  },
  {
   "cell_type": "code",
   "execution_count": null,
   "metadata": {
    "scrolled": true
   },
   "outputs": [],
   "source": [
    "# Calculate simple payback period and create new column containing result\n",
    "summary_neighbourhoods['simple_payback_time'] = \\\n",
    "    summary_neighbourhoods['average_price_per_apartment'] / summary_neighbourhoods['annual_income'] \n",
    "\n",
    "summary_neighbourhoods"
   ]
  },
  {
   "cell_type": "code",
   "execution_count": null,
   "metadata": {},
   "outputs": [],
   "source": [
    "summary_neighbourhoods.sort_values(by=['simple_payback_time'], inplace=True)\n",
    "summary_neighbourhoods.query('simple_payback_time < 25', inplace=True)\n",
    "summary_neighbourhoods"
   ]
  },
  {
   "cell_type": "markdown",
   "metadata": {},
   "source": [
    "## Save results to Excel spreadsheet"
   ]
  },
  {
   "cell_type": "code",
   "execution_count": null,
   "metadata": {},
   "outputs": [],
   "source": [
    "summary_neighbourhoods.to_excel(\"barcelona_apartment_analysis_results.xlsx\",\n",
    "                                sheet_name='summary_neighbourhood',\n",
    "                                index=False)"
   ]
  },
  {
   "cell_type": "markdown",
   "metadata": {},
   "source": [
    "## Save results to csv file"
   ]
  },
  {
   "cell_type": "code",
   "execution_count": null,
   "metadata": {},
   "outputs": [],
   "source": [
    "summary_neighbourhoods.to_csv(\"barcelona_apartment_analysis_results.csv\", index=False)"
   ]
  }
 ],
 "metadata": {
  "kernelspec": {
   "display_name": "Python 3",
   "language": "python",
   "name": "python3"
  },
  "language_info": {
   "codemirror_mode": {
    "name": "ipython",
    "version": 3
   },
   "file_extension": ".py",
   "mimetype": "text/x-python",
   "name": "python",
   "nbconvert_exporter": "python",
   "pygments_lexer": "ipython3",
   "version": "3.7.1"
  },
  "toc": {
   "base_numbering": 1,
   "nav_menu": {},
   "number_sections": true,
   "sideBar": true,
   "skip_h1_title": false,
   "title_cell": "Table of Contents",
   "title_sidebar": "Contents",
   "toc_cell": false,
   "toc_position": {
    "height": "calc(100% - 180px)",
    "left": "10px",
    "top": "150px",
    "width": "181.611px"
   },
   "toc_section_display": true,
   "toc_window_display": true
  }
 },
 "nbformat": 4,
 "nbformat_minor": 2
}
